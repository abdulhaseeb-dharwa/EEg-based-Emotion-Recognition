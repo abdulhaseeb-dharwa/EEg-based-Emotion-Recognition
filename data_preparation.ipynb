{
 "cells": [
  {
   "cell_type": "code",
   "execution_count": 1,
   "metadata": {},
   "outputs": [],
   "source": [
    "import scipy.io as sio\n",
    "import os\n",
    "import numpy as np\n",
    "from itertools import combinations\n",
    "import matplotlib.pyplot as plt\n",
    "import logging\n"
   ]
  },
  {
   "cell_type": "code",
   "execution_count": 4,
   "metadata": {},
   "outputs": [],
   "source": [
    "logging.basicConfig(level=logging.ERROR , filename='./logs/data_validation.log', filemode='w', format='%(asctime)s - %(levelname)s - %(message)s')\n"
   ]
  },
  {
   "cell_type": "code",
   "execution_count": 5,
   "metadata": {},
   "outputs": [],
   "source": [
    "Preprocessed_dir = './processed'\n"
   ]
  },
  {
   "cell_type": "code",
   "execution_count": 6,
   "metadata": {},
   "outputs": [],
   "source": [
    "def load_preprocessed_data (preprocessed_dir):\n",
    "    # Load preprocessed data\n",
    "    files = [f for f in os.listdir(preprocessed_dir) if f.endswith('.mat')]\n",
    "    \n",
    "    # Inititalize data\n",
    "    eeg_data = {}\n",
    "    labels_map = {1:0 , 2:1 , 3:2}\n",
    "    \n",
    "    for file in files:\n",
    "        # Parse subject ID and label\n",
    "        subject_id , emotion_label, _ = file.split('_')\n",
    "        subject_id = int(subject_id)\n",
    "        emotion_label = labels_map[int(emotion_label)]\n",
    "        \n",
    "        # prinnt(subject_id , emotion_label)\n",
    "        # print(subject_id , emotion_label)\n",
    "        \n",
    "        # Load data\n",
    "        data = sio.loadmat(os.path.join(preprocessed_dir , file))\n",
    "        trial_data = data['data']['trial'][0][0]\n",
    "        \n",
    "        #print(trial_data)\n",
    "        \n",
    "        if subject_id not in eeg_data:\n",
    "            eeg_data[subject_id] = {}\n",
    "        if emotion_label not in eeg_data[subject_id]:\n",
    "            eeg_data[subject_id][emotion_label] = []\n",
    "        eeg_data[subject_id][emotion_label].append(trial_data)\n",
    "        \n",
    "    print(f\"loaded data for {len(eeg_data)} subjects\")\n",
    "    \n",
    "    # validate data \n",
    "    for subject , trial_data in eeg_data.items():\n",
    "        for label, trial_list in trial_data.items():\n",
    "            for trial in trial_list:\n",
    "                if not isinstance(trial,np.ndarray):\n",
    "                    logging.error(f\"Invalid trial type for subject {subject} and label {label} : {type(trial)}\")\n",
    "                    print(f\"Invalid trial type for subject {subject} and label {label} : {type(trial)}\")\n",
    "                \n",
    "    # print(eeg_data.values)\n",
    "    # for subject, trial_data in eeg_data.items():\n",
    "    #     for label, trial_list in trial_data.items():\n",
    "    #         for trial in trial_list:\n",
    "    #             print(f\"Subject: {subject}, Label: {label}, Data: {trial}\")\n",
    "    \n",
    "    return eeg_data"
   ]
  },
  {
   "cell_type": "code",
   "execution_count": 7,
   "metadata": {},
   "outputs": [],
   "source": [
    "def visualize_data_distribution (eeg_data):\n",
    "    emotion_counts = {}\n",
    "    for subject,data in eeg_data.items():\n",
    "        for emotion , trials in data.items():\n",
    "            emotion_counts[emotion] = emotion_counts.get(emotion,0) + len(trials)\n",
    "            \n",
    "    plt.bar(emotion_counts.keys() , emotion_counts.values())\n",
    "    plt.xlabel('Emotion labels')\n",
    "    plt.ylabel('Number of trials')\n",
    "    plt.title('Data distribution')\n",
    "    plt.show()"
   ]
  },
  {
   "cell_type": "code",
   "execution_count": 8,
   "metadata": {},
   "outputs": [
    {
     "name": "stdout",
     "output_type": "stream",
     "text": [
      "loaded data for 15 subjects\n"
     ]
    },
    {
     "data": {
      "image/png": "[encoded data removed]",
      "text/plain": [
       "<Figure size 640x480 with 1 Axes>"
      ]
     },
     "metadata": {},
     "output_type": "display_data"
    }
   ],
   "source": [
    "if __name__ == '__main__':\n",
    "    # Load preprocessed data\n",
    "   eeg_data = load_preprocessed_data(Preprocessed_dir)\n",
    "   \n",
    "   #visualize the data distribution\n",
    "   visualize_data_distribution(eeg_data)"
   ]
  },
  {
   "cell_type": "code",
   "execution_count": null,
   "metadata": {},
   "outputs": [],
   "source": []
  }
 ],
 "metadata": {
  "kernelspec": {
   "display_name": ".venv",
   "language": "python",
   "name": "python3"
  },
  "language_info": {
   "codemirror_mode": {
    "name": "ipython",
    "version": 3
   },
   "file_extension": ".py",
   "mimetype": "text/x-python",
   "name": "python",
   "nbconvert_exporter": "python",
   "pygments_lexer": "ipython3",
   "version": "3.12.4"
  }
 },
 "nbformat": 4,
 "nbformat_minor": 2
}
