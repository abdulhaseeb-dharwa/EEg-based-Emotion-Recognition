{
 "cells": [
  {
   "cell_type": "code",
   "execution_count": 13,
   "metadata": {},
   "outputs": [],
   "source": [
    "import scipy.io as sio\n",
    "import os\n",
    "import numpy as np\n",
    "from itertools import combinations\n",
    "import matplotlib.pyplot as plt\n",
    "import logging\n",
    "import random\n",
    "from collections import Counter\n",
    "\n"
   ]
  },
  {
   "cell_type": "code",
   "execution_count": 2,
   "metadata": {},
   "outputs": [],
   "source": [
    "logging.basicConfig(level=logging.ERROR , filename='./logs/data_validation.log', filemode='w', format='%(asctime)s - %(levelname)s - %(message)s')\n"
   ]
  },
  {
   "cell_type": "code",
   "execution_count": 3,
   "metadata": {},
   "outputs": [],
   "source": [
    "Preprocessed_dir = './processed'\n"
   ]
  },
  {
   "cell_type": "code",
   "execution_count": 4,
   "metadata": {},
   "outputs": [],
   "source": [
    "def load_preprocessed_data (preprocessed_dir):\n",
    "    # Load preprocessed data\n",
    "    files = [f for f in os.listdir(preprocessed_dir) if f.endswith('.mat')]\n",
    "    \n",
    "    # Inititalize data\n",
    "    eeg_data = {}\n",
    "    labels_map = {1:0 , 2:1 , 3:2}\n",
    "    \n",
    "    for file in files:\n",
    "        # Parse subject ID and label\n",
    "        subject_id , emotion_label, _ = file.split('_')\n",
    "        subject_id = int(subject_id)\n",
    "        emotion_label = labels_map[int(emotion_label)]\n",
    "        \n",
    "        # prinnt(subject_id , emotion_label)\n",
    "        # print(subject_id , emotion_label)\n",
    "        \n",
    "        # Load data\n",
    "        data = sio.loadmat(os.path.join(preprocessed_dir , file))\n",
    "        trial_data = data['data']['trial'][0][0]\n",
    "        \n",
    "        #print(trial_data)\n",
    "        \n",
    "        if subject_id not in eeg_data:\n",
    "            eeg_data[subject_id] = {}\n",
    "        if emotion_label not in eeg_data[subject_id]:\n",
    "            eeg_data[subject_id][emotion_label] = []\n",
    "        eeg_data[subject_id][emotion_label].append(trial_data)\n",
    "        \n",
    "    print(f\"loaded data for {len(eeg_data)} subjects\")\n",
    "    \n",
    "    # validate data \n",
    "    for subject , trial_data in eeg_data.items():\n",
    "        for label, trial_list in trial_data.items():\n",
    "            for trial in trial_list:\n",
    "                if not isinstance(trial,np.ndarray):\n",
    "                    logging.error(f\"Invalid trial type for subject {subject} and label {label} : {type(trial)}\")\n",
    "                    print(f\"Invalid trial type for subject {subject} and label {label} : {type(trial)}\")\n",
    "                \n",
    "    # print(eeg_data.values)\n",
    "    # for subject, trial_data in eeg_data.items():\n",
    "    #     for label, trial_list in trial_data.items():\n",
    "    #         for trial in trial_list:\n",
    "    #             print(f\"Subject: {subject}, Label: {label}, Data: {trial}\")\n",
    "    \n",
    "    return eeg_data"
   ]
  },
  {
   "cell_type": "code",
   "execution_count": 6,
   "metadata": {},
   "outputs": [],
   "source": [
    "def visualize_data_distribution (eeg_data):\n",
    "    emotion_counts = {}\n",
    "    for subject,data in eeg_data.items():\n",
    "        for emotion , trials in data.items():\n",
    "            emotion_counts[emotion] = emotion_counts.get(emotion,0) + len(trials)\n",
    "            \n",
    "    plt.bar(emotion_counts.keys() , emotion_counts.values())\n",
    "    plt.xlabel('Emotion labels')\n",
    "    plt.ylabel('Number of trials')\n",
    "    plt.title('Data distribution')\n",
    "    plt.show()"
   ]
  },
  {
   "cell_type": "code",
   "execution_count": 7,
   "metadata": {},
   "outputs": [],
   "source": [
    "def enumerate_pairs(eeg_data):\n",
    "    pairs = []\n",
    "    for subject, emotions in eeg_data.items():\n",
    "        for emotion1, emotion2 in combinations(emotions.keys(), 2):\n",
    "            pairs.append((subject, emotion1, emotion2))\n",
    "        print(f\"Enumerated {len(pairs)} emotion pairs.\")\n",
    "        return pairs"
   ]
  },
  {
   "cell_type": "code",
   "execution_count": 10,
   "metadata": {},
   "outputs": [],
   "source": [
    "def construct_pairs(eeg_data):\n",
    "    postive_pairs, negative_pairs = [] , []\n",
    "    for subject1, data1 in eeg_data.items():\n",
    "        for subject2, data2 in eeg_data.items():\n",
    "            if subject1 == subject2:\n",
    "                continue\n",
    "            for emotion1, trials1 in data1.items():\n",
    "                for emotion2, trials2 in data2.items():\n",
    "                    if emotion1 == emotion2:\n",
    "                        postive_pairs.append((trials1, trials2))\n",
    "                    else:\n",
    "                        negative_pairs.append((trials1,trials2))\n",
    "    \n",
    "    print(f\"Constructed {len(postive_pairs)} positive pairs nad {len(negative_pairs)} negative pairs\")\n",
    "    return postive_pairs, negative_pairs"
   ]
  },
  {
   "cell_type": "code",
   "execution_count": 12,
   "metadata": {},
   "outputs": [
    {
     "name": "stdout",
     "output_type": "stream",
     "text": [
      "loaded data for 15 subjects\n"
     ]
    },
    {
     "data": {
      "image/png": "[encoded data removed]",
      "text/plain": [
       "<Figure size 640x480 with 1 Axes>"
      ]
     },
     "metadata": {},
     "output_type": "display_data"
    },
    {
     "name": "stdout",
     "output_type": "stream",
     "text": [
      "Enumerated 3 emotion pairs.\n",
      "Constructed 630 positive pairs nad 1260 negative pairs\n",
      "Example Positive Pair: ([array([[array([[ -1.05347878, -11.80202771, -17.27420378, ...,  11.69510304,\n",
      "                 17.66776863,   1.8894496 ],\n",
      "               [ -0.45379212,  -3.7282661 , -15.23844822, ...,  -1.87030251,\n",
      "                  4.39120589,   2.32283091],\n",
      "               [ -1.12112612, -12.26388168, -38.63265457, ...,   2.95692731,\n",
      "                  5.13065668,   1.52806997],\n",
      "               ...,\n",
      "               [ -0.39705717,   5.59680882,   8.19283418, ...,   2.27706847,\n",
      "                 -0.517542  ,  -0.16071538],\n",
      "               [  3.19644762,  -0.98306134,  -0.95049357, ..., -15.04472122,\n",
      "                 -8.73871661,   1.29515421],\n",
      "               [  1.16589737,  74.01867159,  96.99071126, ..., -65.55606633,\n",
      "                -55.91582518,  -7.55393044]])                               ]],\n",
      "      dtype=object)], [array([[array([[  0.80086563,  -1.82670103,  -5.49362473, ...,  -5.87605848,\n",
      "                 -2.65435661,  -1.17858699],\n",
      "               [  0.15448296,  -7.49118234, -10.45963163, ...,  -6.10564794,\n",
      "                 -2.66310601,  -1.087047  ],\n",
      "               [  0.31800398,  -7.05585813, -10.54628137, ...,  -4.8650431 ,\n",
      "                 -1.56275042,  -0.69411532],\n",
      "               ...,\n",
      "               [  0.49822919,  -2.10779553,  -2.17881377, ..., -12.72648087,\n",
      "                -11.60381687,   0.1307188 ],\n",
      "               [  0.2741328 , -25.02067255, -34.6610147 , ...,   1.5401934 ,\n",
      "                  3.88379528,  -0.25775123],\n",
      "               [  1.86195145,  23.82111898,  32.42850049, ...,  -0.68803327,\n",
      "                 -0.9250536 ,  -1.10017128]])                               ]],\n",
      "      dtype=object)])\n",
      "Example Negative Pair: ([array([[array([[ -1.05347878, -11.80202771, -17.27420378, ...,  11.69510304,\n",
      "                 17.66776863,   1.8894496 ],\n",
      "               [ -0.45379212,  -3.7282661 , -15.23844822, ...,  -1.87030251,\n",
      "                  4.39120589,   2.32283091],\n",
      "               [ -1.12112612, -12.26388168, -38.63265457, ...,   2.95692731,\n",
      "                  5.13065668,   1.52806997],\n",
      "               ...,\n",
      "               [ -0.39705717,   5.59680882,   8.19283418, ...,   2.27706847,\n",
      "                 -0.517542  ,  -0.16071538],\n",
      "               [  3.19644762,  -0.98306134,  -0.95049357, ..., -15.04472122,\n",
      "                 -8.73871661,   1.29515421],\n",
      "               [  1.16589737,  74.01867159,  96.99071126, ..., -65.55606633,\n",
      "                -55.91582518,  -7.55393044]])                               ]],\n",
      "      dtype=object)], [array([[array([[  0.94414601,  -5.49242958, -10.99320499, ...,   0.15908696,\n",
      "                  1.70966761,   0.38647204],\n",
      "               [  0.91585604,  -6.06664628, -10.88251889, ...,   2.27349321,\n",
      "                  3.23442566,   0.57850298],\n",
      "               [  0.65848989,   3.41972875,  -0.47298956, ...,   3.30240332,\n",
      "                  2.69239913,   0.48583777],\n",
      "               ...,\n",
      "               [ -1.08698484,  11.66446107,  16.55643786, ...,   4.22278061,\n",
      "                  4.90108559,  -0.06639747],\n",
      "               [ -0.75023939,  19.48340721,  24.69274395, ...,   0.67483269,\n",
      "                 -1.52485147,  -0.31640118],\n",
      "               [  0.32788519,  -0.23555255,   1.78556283, ...,  -1.46332202,\n",
      "                 -1.86346178,   3.4860521 ]])                               ]],\n",
      "      dtype=object)])\n"
     ]
    }
   ],
   "source": [
    "if __name__ == '__main__':\n",
    "    # Load preprocessed data\n",
    "   eeg_data = load_preprocessed_data(Preprocessed_dir)\n",
    "   \n",
    "   #visualize the data distribution\n",
    "   visualize_data_distribution(eeg_data)\n",
    "   \n",
    "   #Enumerate emotion pairs\n",
    "   emotion_pairs = enumerate_pairs(eeg_data)\n",
    "   \n",
    "   # Construct positive and negative pairs\n",
    "   positive_pairs , negative_pairs = construct_pairs(eeg_data)\n",
    "   \n",
    "   # Example: Print some positive and negative pairs\n",
    "   print(\"Example Positive Pair:\", positive_pairs[0] if positive_pairs else \"No positive pairs found\")\n",
    "   print(\"Example Negative Pair:\", negative_pairs[0] if negative_pairs else \"No negative pairs found\")\n",
    "   "
   ]
  },
  {
   "cell_type": "code",
   "execution_count": 14,
   "metadata": {},
   "outputs": [
    {
     "data": {
      "image/png": "[encoded data removed]",
      "text/plain": [
       "<Figure size 640x480 with 1 Axes>"
      ]
     },
     "metadata": {},
     "output_type": "display_data"
    }
   ],
   "source": [
    "def visualize_pair_counts(positive_pairs , negative_pairs):\n",
    "    \n",
    "    #count pairs\n",
    "    counts = [len(positive_pairs), len(negative_pairs)]\n",
    "    labels = ['positive_pairs' , 'negative_pairs']\n",
    "    \n",
    "    #Create bar chart\n",
    "    plt.bar(labels, counts, color=['green' , 'red'])\n",
    "    plt.title('Pair Counts')\n",
    "    plt.ylabel(\"Number of pairs\")\n",
    "    plt.show()\n",
    "\n",
    "\n",
    "visualize_pair_counts(positive_pairs,negative_pairs)\n",
    "    "
   ]
  },
  {
   "cell_type": "code",
   "execution_count": 15,
   "metadata": {},
   "outputs": [
    {
     "name": "stdout",
     "output_type": "stream",
     "text": [
      "Sample Positive Pairs:\n",
      "Trial1 shape: (1, 1), Trial2 shape: (1, 1)\n",
      "Trial1 shape: (1, 1), Trial2 shape: (1, 1)\n",
      "Trial1 shape: (1, 1), Trial2 shape: (1, 1)\n",
      "\n",
      "Sample Negative Pairs:\n",
      "Trial1 shape: (1, 1), Trial2 shape: (1, 1)\n",
      "Trial1 shape: (1, 1), Trial2 shape: (1, 1)\n",
      "Trial1 shape: (1, 1), Trial2 shape: (1, 1)\n"
     ]
    }
   ],
   "source": [
    "def display_random_pairs(positive_pairs, negative_pairs, num_pairs=3):\n",
    "    print(\"Sample Positive Pairs:\")\n",
    "    for i in range(min(num_pairs, len(positive_pairs))):\n",
    "        trial1, trial2 = random.choice(positive_pairs)\n",
    "        print(f\"Trial1 shape: {trial1[0].shape}, Trial2 shape: {trial2[0].shape}\")\n",
    "    \n",
    "    print(\"\\nSample Negative Pairs:\")\n",
    "    for i in range(min(num_pairs, len(negative_pairs))):\n",
    "        trial1, trial2 = random.choice(negative_pairs)\n",
    "        print(f\"Trial1 shape: {trial1[0].shape}, Trial2 shape: {trial2[0].shape}\")\n",
    "\n",
    "# Example usage\n",
    "display_random_pairs(positive_pairs, negative_pairs)"
   ]
  },
  {
   "cell_type": "code",
   "execution_count": 17,
   "metadata": {},
   "outputs": [
    {
     "data": {
      "image/png": "[encoded data removed]",
      "text/plain": [
       "<Figure size 1000x500 with 1 Axes>"
      ]
     },
     "metadata": {},
     "output_type": "display_data"
    }
   ],
   "source": [
    "def visualize_pair_distribution(positive_pairs, negative_pairs):\n",
    "    # Count pairs by emotion\n",
    "    positive_emotions = [len(pair[0]) for pair in positive_pairs]\n",
    "    negative_emotions = [len(pair[0]) for pair in negative_pairs]\n",
    "\n",
    "    positive_counts = Counter(positive_emotions)\n",
    "    negative_counts = Counter(negative_emotions)\n",
    "\n",
    "    # Plot distribution\n",
    "    plt.figure(figsize=(10, 5))\n",
    "    plt.bar(positive_counts.keys(), positive_counts.values(), color='green', alpha=0.6, label='Positive Pairs')\n",
    "    plt.bar(negative_counts.keys(), negative_counts.values(), color='red', alpha=0.6, label='Negative Pairs')\n",
    "    plt.title('Pair Distribution by Emotion')\n",
    "    plt.xlabel('Emotion Labels')\n",
    "    plt.ylabel('Number of Pairs')\n",
    "    plt.legend()\n",
    "    plt.show()\n",
    "\n",
    "# Example usage\n",
    "visualize_pair_distribution(positive_pairs, negative_pairs)"
   ]
  },
  {
   "cell_type": "code",
   "execution_count": 22,
   "metadata": {},
   "outputs": [
    {
     "name": "stdout",
     "output_type": "stream",
     "text": [
      "Trial 1 shape: (1, 1, 1)\n",
      "Trial 2 shape: (1, 1, 1)\n",
      "Trial 1 shape: (1, 1, 1)\n",
      "Trial 2 shape: (1, 1, 1)\n"
     ]
    }
   ],
   "source": [
    "def inspect_pair_structure(pair):\n",
    "    trial1, trial2 = pair\n",
    "    print(f\"Trial 1 shape: {np.array(trial1).shape}\")\n",
    "    print(f\"Trial 2 shape: {np.array(trial2).shape}\")\n",
    "\n",
    "# Example usage\n",
    "random_positive = random.choice(positive_pairs) if positive_pairs else None\n",
    "random_negative = random.choice(negative_pairs) if negative_pairs else None\n",
    "\n",
    "if random_positive:\n",
    "    inspect_pair_structure(random_positive)\n",
    "else:\n",
    "    print(\"No positive pairs found\")\n",
    "\n",
    "if random_negative:\n",
    "    inspect_pair_structure(random_negative)\n",
    "else:\n",
    "    print(\"No negative pairs found\")\n"
   ]
  },
  {
   "cell_type": "code",
   "execution_count": 23,
   "metadata": {},
   "outputs": [
    {
     "name": "stdout",
     "output_type": "stream",
     "text": [
      "Raw Trial Data:\n",
      "[array([[array([[-6.03529028e+00, -1.91980714e+00, -9.45470894e+00, ...,\n",
      "                 1.63731148e+02,  1.20623079e+02, -7.56311587e+00],\n",
      "               [-6.95907325e+00,  7.16308747e+00, -5.19988254e-02, ...,\n",
      "                 1.55213865e+02,  1.13354118e+02, -7.70673385e+00],\n",
      "               [-6.65699553e+00,  9.80671853e+00,  7.76311860e+00, ...,\n",
      "                 1.62064590e+02,  1.17153937e+02, -7.76473186e+00],\n",
      "               ...,\n",
      "               [-6.07754104e+00, -3.20661250e+00, -1.27385946e+01, ...,\n",
      "                 1.49999848e+02,  1.10067480e+02, -6.63104956e+00],\n",
      "               [-7.44286041e+00,  1.48009938e+01,  8.95923114e+00, ...,\n",
      "                 1.84038579e+02,  1.62681236e+02,  6.02068133e+01],\n",
      "               [-2.03662126e+02, -4.13470716e+02,  8.35325129e+00, ...,\n",
      "                 1.76591541e+02,  1.20012787e+02, -7.41100048e+00]])   ]],\n",
      "      dtype=object)]\n",
      "Type: <class 'list'>\n",
      "Non-numpy data structure.\n",
      "Raw Trial Data:\n",
      "[array([[array([[ 3.86627782e-01, -4.61342563e+00, -6.07306008e+00, ...,\n",
      "                -4.19080977e+00, -4.39699740e+00,  1.00237594e-01],\n",
      "               [-1.69930682e-01, -4.15421222e+00, -4.77625062e+00, ...,\n",
      "                -7.96557581e+00, -7.16438930e+00, -1.75668741e-01],\n",
      "               [-5.06583348e-01, -1.01675042e+01, -1.44935461e+01, ...,\n",
      "                 1.43178257e+00, -1.78176275e+00, -8.24618491e-05],\n",
      "               ...,\n",
      "               [-2.03458507e-01,  8.18930620e-01,  1.30116387e-01, ...,\n",
      "                -1.14933127e+01, -1.05462630e+01, -8.73854224e-01],\n",
      "               [-1.68464961e+00, -4.21134554e+00, -9.03530942e+00, ...,\n",
      "                 2.22475726e+00,  2.39600549e+00,  1.49032183e+00],\n",
      "               [ 3.98393162e+00, -2.32236675e+01, -2.07234741e+01, ...,\n",
      "                -1.52981827e+01, -1.53758084e+01,  2.05477608e+00]])   ]],\n",
      "      dtype=object)]\n",
      "Type: <class 'list'>\n",
      "Non-numpy data structure.\n"
     ]
    }
   ],
   "source": [
    "def inspect_trial_contents(trial):\n",
    "    print(\"Raw Trial Data:\")\n",
    "    print(trial)\n",
    "    print(\"Type:\", type(trial))\n",
    "    if isinstance(trial, np.ndarray):\n",
    "        print(\"Contents:\", trial.flatten())\n",
    "    else:\n",
    "        print(\"Non-numpy data structure.\")\n",
    "\n",
    "\n",
    "inspect_trial_contents(random_positive[0])\n",
    "inspect_trial_contents(random_positive[1])\n"
   ]
  },
  {
   "cell_type": "code",
   "execution_count": 25,
   "metadata": {},
   "outputs": [
    {
     "name": "stdout",
     "output_type": "stream",
     "text": [
      "Level 0 - Type: <class 'list'>, Shape: N/A\n",
      "  Level 1 - Type: <class 'numpy.ndarray'>, Shape: (1, 1)\n",
      "    Level 2 - Type: <class 'numpy.ndarray'>, Shape: (1,)\n",
      "      Level 3 - Type: <class 'numpy.ndarray'>, Shape: (66, 766040)\n",
      "        Level 4 - Type: <class 'numpy.ndarray'>, Shape: (766040,)\n",
      "          Level 5 - Type: <class 'numpy.float64'>, Shape: ()\n"
     ]
    }
   ],
   "source": [
    "def inspect_data_structure(data, level=0):\n",
    "    print(f\"{'  ' * level}Level {level} - Type: {type(data)}, Shape: {getattr(data, 'shape', 'N/A')}\")\n",
    "    if isinstance(data, (list, np.ndarray)) and len(data) > 0:\n",
    "        inspect_data_structure(data[0], level + 1)\n",
    "\n",
    "# Example usage\n",
    "if random_positive:\n",
    "    inspect_data_structure(random_positive[0])\n",
    "else:\n",
    "    print(\"No positive pairs found\")\n"
   ]
  },
  {
   "cell_type": "code",
   "execution_count": null,
   "metadata": {},
   "outputs": [],
   "source": []
  }
 ],
 "metadata": {
  "kernelspec": {
   "display_name": ".venv",
   "language": "python",
   "name": "python3"
  },
  "language_info": {
   "codemirror_mode": {
    "name": "ipython",
    "version": 3
   },
   "file_extension": ".py",
   "mimetype": "text/x-python",
   "name": "python",
   "nbconvert_exporter": "python",
   "pygments_lexer": "ipython3",
   "version": "3.12.4"
  }
 },
 "nbformat": 4,
 "nbformat_minor": 2
}
