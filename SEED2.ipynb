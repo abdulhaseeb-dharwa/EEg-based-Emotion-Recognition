{
 "cells": [
  {
   "cell_type": "code",
   "execution_count": null,
   "metadata": {},
   "outputs": [
    {
     "name": "stderr",
     "output_type": "stream",
     "text": [
      "[2024-11-28 09:58:15] INFO (torcheeg/MainThread) 🔍 | Processing EEG data. Processed EEG data has been cached to \u001b[92m.torcheeg\\datasets_1732769895958_T9P3J\u001b[0m.\n",
      "[2024-11-28 09:58:15] INFO (torcheeg/MainThread) ⏳ | Monitoring the detailed processing of a record for debugging. The processing of other records will only be reported in percentage to keep it clean.\n",
      "[PROCESS]:  36%|███▌      | 16/45 [00:20<00:00, 67.47it/s]"
     ]
    }
   ],
   "source": [
    "from torcheeg.datasets import SEEDDataset\n",
    "from torcheeg import transforms\n",
    "\n",
    "dataset = SEEDDataset(root_path='./Preprocessed_EEG',\n",
    "                      online_transform=transforms.Compose([\n",
    "                          transforms.ToTensor(),\n",
    "                          transforms.To2d()\n",
    "                      ]),\n",
    "                      label_transform=transforms.Compose([\n",
    "                          transforms.Select('emotion'),\n",
    "                          transforms.Lambda(lambda x: x + 1)\n",
    "                      ]),\n",
    "                      num_worker = 16)\n",
    "print(dataset[0])"
   ]
  },
  {
   "cell_type": "code",
   "execution_count": null,
   "metadata": {},
   "outputs": [],
   "source": []
  }
 ],
 "metadata": {
  "kernelspec": {
   "display_name": ".venv",
   "language": "python",
   "name": "python3"
  },
  "language_info": {
   "codemirror_mode": {
    "name": "ipython",
    "version": 3
   },
   "file_extension": ".py",
   "mimetype": "text/x-python",
   "name": "python",
   "nbconvert_exporter": "python",
   "pygments_lexer": "ipython3",
   "version": "3.12.7"
  }
 },
 "nbformat": 4,
 "nbformat_minor": 2
}
