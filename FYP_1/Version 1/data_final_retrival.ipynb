{
 "cells": [
  {
   "cell_type": "code",
   "execution_count": 1,
   "metadata": {},
   "outputs": [
    {
     "name": "stderr",
     "output_type": "stream",
     "text": [
      "[2024-12-11 22:40:59] INFO (torcheeg/MainThread) 🔍 | Detected cached processing results, reading cache from E:/FYP/Egg-Based Emotion Recognition/EEg-based-Emotion-Recognition/.torcheeg/datasets_1732642665062_seDY1.\n"
     ]
    },
    {
     "name": "stdout",
     "output_type": "stream",
     "text": [
      "(tensor([[[ 0.0000,  0.0000,  0.0000,  5.1832,  5.0887,  4.9807,  0.0000,\n",
      "           0.0000,  0.0000],\n",
      "         [ 0.0000,  0.0000,  0.0000,  4.5553,  0.0000,  4.2643,  0.0000,\n",
      "           0.0000,  0.0000],\n",
      "         [ 4.2014,  4.0099,  3.8065,  3.8590,  3.7828,  3.7195,  3.3290,\n",
      "           3.8660,  3.5138],\n",
      "         [ 3.5574,  3.8370,  3.1473,  3.1314,  3.4455,  2.8615,  2.8605,\n",
      "           3.1997,  4.4979],\n",
      "         [ 3.8301,  3.7472,  3.4873,  2.9300, -0.5460,  2.4503,  3.2057,\n",
      "           3.7392,  4.5785],\n",
      "         [ 3.8620,  3.5352,  3.4424,  3.1226, -0.6533,  2.3607,  3.8760,\n",
      "           4.0473,  4.4404],\n",
      "         [ 3.9283,  3.7993,  3.6490,  4.5985,  3.1423,  3.5070,  3.8388,\n",
      "           4.3632,  4.5748],\n",
      "         [ 0.0000,  4.0628,  4.0962,  3.8834,  3.8629,  4.1004,  4.5013,\n",
      "           4.5144,  0.0000],\n",
      "         [ 0.0000,  0.0000,  4.2134,  4.0241,  4.0828,  4.3369,  4.3554,\n",
      "           0.0000,  0.0000]],\n",
      "\n",
      "        [[ 0.0000,  0.0000,  0.0000,  4.1442,  3.9311,  3.9702,  0.0000,\n",
      "           0.0000,  0.0000],\n",
      "         [ 0.0000,  0.0000,  0.0000,  3.8076,  0.0000,  3.5284,  0.0000,\n",
      "           0.0000,  0.0000],\n",
      "         [ 3.6874,  3.6559,  3.3231,  3.1795,  3.0191,  2.8989,  3.0870,\n",
      "           3.6073,  3.8755],\n",
      "         [ 3.9268,  3.3185,  3.1067,  2.7073,  2.5984,  2.3471,  3.2850,\n",
      "           3.9717,  3.9034],\n",
      "         [ 3.5971,  3.3530,  3.0987,  2.5811, -0.4075,  2.2886,  3.1303,\n",
      "           4.1033,  5.0562],\n",
      "         [ 3.4308,  3.1491,  2.8861,  2.4297, -0.5135,  2.8054,  3.3174,\n",
      "           3.5057,  4.2675],\n",
      "         [ 3.4966,  3.4098,  3.1533,  3.3278,  2.6495,  3.0916,  3.7173,\n",
      "           3.9797,  3.5016],\n",
      "         [ 0.0000,  3.3006,  3.3998,  3.0065,  3.0138,  3.5904,  3.7306,\n",
      "           3.7075,  0.0000],\n",
      "         [ 0.0000,  0.0000,  3.6298,  3.3563,  3.3590,  3.4779,  3.5167,\n",
      "           0.0000,  0.0000]],\n",
      "\n",
      "        [[ 0.0000,  0.0000,  0.0000,  4.6466,  3.6835,  4.9273,  0.0000,\n",
      "           0.0000,  0.0000],\n",
      "         [ 0.0000,  0.0000,  0.0000,  3.9213,  0.0000,  4.5222,  0.0000,\n",
      "           0.0000,  0.0000],\n",
      "         [ 4.3774,  3.7358,  3.3411,  3.0282,  3.0334,  3.4365,  3.9321,\n",
      "           4.5577,  4.1863],\n",
      "         [ 4.5566,  3.5166,  3.0816,  2.4629,  2.6381,  2.9052,  3.5255,\n",
      "           4.4772,  4.3021],\n",
      "         [ 4.2116,  3.3432,  2.9077,  2.4891,  0.1139,  2.6580,  3.2670,\n",
      "           4.5674,  5.6607],\n",
      "         [ 3.6557,  3.3030,  2.8800,  2.5562,  0.2792,  2.4575,  3.0286,\n",
      "           3.4462,  4.6191],\n",
      "         [ 3.6486,  3.4277,  3.1054,  3.5722,  2.6699,  2.8432,  3.0331,\n",
      "           3.3683,  4.2211],\n",
      "         [ 0.0000,  3.6954,  3.7021,  3.4088,  3.0874,  3.3500,  4.1387,\n",
      "           4.2190,  0.0000],\n",
      "         [ 0.0000,  0.0000,  3.5714,  3.6466,  3.4696,  3.4507,  3.4836,\n",
      "           0.0000,  0.0000]],\n",
      "\n",
      "        [[ 0.0000,  0.0000,  0.0000,  4.5820,  3.3992,  4.4916,  0.0000,\n",
      "           0.0000,  0.0000],\n",
      "         [ 0.0000,  0.0000,  0.0000,  3.4650,  0.0000,  3.9404,  0.0000,\n",
      "           0.0000,  0.0000],\n",
      "         [ 4.3442,  3.0362,  2.7705,  2.3328,  2.4661,  2.7964,  3.3061,\n",
      "           4.2468,  4.1351],\n",
      "         [ 4.3269,  2.5563,  2.2187,  1.9770,  2.0844,  2.2593,  3.0988,\n",
      "           4.2451,  4.2401],\n",
      "         [ 3.7815,  2.5662,  1.9931,  1.9829,  0.4126,  2.1511,  3.0831,\n",
      "           4.5508,  5.9219],\n",
      "         [ 2.9213,  2.3556,  1.7778,  1.8826,  0.3767,  1.6890,  2.7791,\n",
      "           3.1466,  4.8253],\n",
      "         [ 2.4940,  1.9858,  2.1329,  3.9953,  1.9210,  2.1794,  2.6271,\n",
      "           3.2311,  3.8269],\n",
      "         [ 0.0000,  2.9038,  2.4317,  2.3436,  2.4720,  3.0043,  3.9280,\n",
      "           3.9331,  0.0000],\n",
      "         [ 0.0000,  0.0000,  3.0127,  3.0732,  3.1646,  3.0296,  3.0349,\n",
      "           0.0000,  0.0000]]]), 2)\n"
     ]
    }
   ],
   "source": [
    "from torcheeg.datasets import SEEDDataset\n",
    "from torcheeg import transforms\n",
    "from torcheeg.datasets.constants import SEED_CHANNEL_LOCATION_DICT\n",
    "\n",
    "dataset = SEEDDataset(root_path='./SEED/SEED_EEG/Preprocessed_EEG',\n",
    "                      io_path = 'E:/FYP/Egg-Based Emotion Recognition/EEg-based-Emotion-Recognition/.torcheeg/datasets_1732642665062_seDY1',\n",
    "                      offline_transform=transforms.Compose([\n",
    "                          transforms.BandDifferentialEntropy(),\n",
    "                          transforms.ToGrid(SEED_CHANNEL_LOCATION_DICT)\n",
    "                      ]),\n",
    "                      online_transform=transforms.ToTensor(),\n",
    "                      label_transform=transforms.Compose([\n",
    "                          transforms.Select('emotion'),\n",
    "                          transforms.Lambda(lambda x: x + 1)\n",
    "                      ]),\n",
    "                      num_worker=4)\n",
    "print(dataset[0])"
   ]
  },
  {
   "cell_type": "code",
   "execution_count": 2,
   "metadata": {},
   "outputs": [],
   "source": [
    "\n",
    "from torch.utils.data import Dataset, DataLoader, random_split\n",
    "import torch\n",
    "import os\n",
    "\n",
    "class EEGDataset(Dataset):\n",
    "    def __init__(self, data_dir):\n",
    "        self.file_list = sorted(os.listdir(data_dir))\n",
    "        self.data_dir = data_dir\n",
    "\n",
    "    def __len__(self):\n",
    "        return len(self.file_list)\n",
    "\n",
    "    def __getitem__(self, idx):\n",
    "        file_path = os.path.join(self.data_dir, self.file_list[idx])\n",
    "        sample = torch.load(file_path, map_location='cpu')  # Load on CPU first\n",
    "        eeg = sample['eeg'].float()  # Ensure correct data type\n",
    "        label = sample['label']  # Ensure label is of type long for classification\n",
    "        return eeg, label\n",
    "\n"
   ]
  },
  {
   "cell_type": "code",
   "execution_count": 3,
   "metadata": {},
   "outputs": [],
   "source": [
    "data_dir = \"E:/FYP/Egg-Based Emotion Recognition/EEg-based-Emotion-Recognition/processed_eeg_data\"\n",
    "dataset = EEGDataset(data_dir)\n",
    "\n",
    "# split dataset\n",
    "train_size = int(0.7 * len(dataset))\n",
    "val_size = int(0.2 * len(dataset))\n",
    "test_size = len(dataset) - train_size - val_size\n",
    "train_dataset, val_dataset, test_dataset = random_split(dataset, [train_size, val_size, test_size])\n",
    "\n",
    "# DataLoaders\n",
    "train_loader = DataLoader(train_dataset, batch_size=64, shuffle=True , pin_memory=True)\n",
    "val_loader = DataLoader(val_dataset, batch_size=64, shuffle=False , pin_memory=True)\n",
    "test_loader = DataLoader(test_dataset, batch_size=64, shuffle=False , pin_memory=True)\n"
   ]
  },
  {
   "cell_type": "code",
   "execution_count": 4,
   "metadata": {},
   "outputs": [
    {
     "name": "stdout",
     "output_type": "stream",
     "text": [
      "samples 0: torch.Size([4, 9, 9]), 2\n",
      "samples 1: torch.Size([4, 9, 9]), 2\n",
      "samples 2: torch.Size([4, 9, 9]), 2\n",
      "samples 3: torch.Size([4, 9, 9]), 2\n",
      "samples 4: torch.Size([4, 9, 9]), 1\n"
     ]
    },
    {
     "name": "stderr",
     "output_type": "stream",
     "text": [
      "C:\\Users\\hamza\\AppData\\Local\\Temp\\ipykernel_16592\\1540518134.py:15: FutureWarning: You are using `torch.load` with `weights_only=False` (the current default value), which uses the default pickle module implicitly. It is possible to construct malicious pickle data which will execute arbitrary code during unpickling (See https://github.com/pytorch/pytorch/blob/main/SECURITY.md#untrusted-models for more details). In a future release, the default value for `weights_only` will be flipped to `True`. This limits the functions that could be executed during unpickling. Arbitrary objects will no longer be allowed to be loaded via this mode unless they are explicitly allowlisted by the user via `torch.serialization.add_safe_globals`. We recommend you start setting `weights_only=True` for any use case where you don't have full control of the loaded file. Please open an issue on GitHub for any issues related to this experimental feature.\n",
      "  sample = torch.load(file_path, map_location='cpu')  # Load on CPU first\n"
     ]
    }
   ],
   "source": [
    "## debugging \n",
    "for i in range(5):\n",
    "    eeg, label = dataset[i]\n",
    "    print(f\"samples {i}: {eeg.shape}, {label}\")"
   ]
  },
  {
   "cell_type": "code",
   "execution_count": 5,
   "metadata": {},
   "outputs": [
    {
     "name": "stdout",
     "output_type": "stream",
     "text": [
      "Training size: 106911, Validation size: 30546, Test size: 15273\n"
     ]
    }
   ],
   "source": [
    "## debugging\n",
    "print(f\"Training size: {len(train_dataset)}, Validation size: {len(val_dataset)}, Test size: {len(test_dataset)}\")\n"
   ]
  },
  {
   "cell_type": "code",
   "execution_count": 6,
   "metadata": {},
   "outputs": [
    {
     "name": "stderr",
     "output_type": "stream",
     "text": [
      "C:\\Users\\hamza\\AppData\\Local\\Temp\\ipykernel_16592\\1540518134.py:15: FutureWarning: You are using `torch.load` with `weights_only=False` (the current default value), which uses the default pickle module implicitly. It is possible to construct malicious pickle data which will execute arbitrary code during unpickling (See https://github.com/pytorch/pytorch/blob/main/SECURITY.md#untrusted-models for more details). In a future release, the default value for `weights_only` will be flipped to `True`. This limits the functions that could be executed during unpickling. Arbitrary objects will no longer be allowed to be loaded via this mode unless they are explicitly allowlisted by the user via `torch.serialization.add_safe_globals`. We recommend you start setting `weights_only=True` for any use case where you don't have full control of the loaded file. Please open an issue on GitHub for any issues related to this experimental feature.\n",
      "  sample = torch.load(file_path, map_location='cpu')  # Load on CPU first\n"
     ]
    },
    {
     "name": "stdout",
     "output_type": "stream",
     "text": [
      "Batch shape: torch.Size([64, 4, 9, 9]), Labels: tensor([1, 2, 1, 2, 0, 2, 2, 0, 0, 0, 0, 2, 1, 0, 1, 0, 1, 2, 1, 0, 2, 1, 2, 2,\n",
      "        1, 0, 1, 1, 0, 1, 1, 2, 0, 0, 2, 2, 0, 1, 2, 2, 2, 2, 0, 2, 2, 1, 0, 2,\n",
      "        1, 0, 2, 2, 0, 0, 0, 0, 1, 0, 1, 1, 0, 2, 0, 2])\n"
     ]
    }
   ],
   "source": [
    "for eeg_batch, label_batch in train_loader:\n",
    "    print(f\"Batch shape: {eeg_batch.shape}, Labels: {label_batch}\")\n",
    "    break\n"
   ]
  },
  {
   "cell_type": "code",
   "execution_count": 7,
   "metadata": {},
   "outputs": [],
   "source": [
    "import torch.nn as nn\n",
    "\n",
    "class DEBaseEncoder(nn.Module):\n",
    "    def __init__(self):\n",
    "        super(DEBaseEncoder, self).__init__()\n",
    "        self.conv1 = nn.Conv2d(4, 16, kernel_size=3, stride=1, padding=1)\n",
    "        self.conv2 = nn.Conv2d(16, 32, kernel_size=3, stride=1, padding=1)\n",
    "        self.pool = nn.MaxPool2d(2, 2)\n",
    "        self.fc = nn.Linear(32*4,128)\n",
    "        \n",
    "    def forward(self, x):\n",
    "        #  print(f\"Input to encoder: {x.shape}\")\n",
    "         x = self.pool(nn.ReLU()(self.conv1(x)))\n",
    "        #  print(f\"After conv1: {x.shape}\")\n",
    "         x = self.pool(nn.ReLU()(self.conv2(x)))\n",
    "        #  print(f\"After conv2: {x.shape}\")\n",
    "         x = x.view(x.size(0), -1)  # Flatten\n",
    "        #  print(f\"Flattened Shape: {x.shape}\")\n",
    "         x = nn.ReLU()(self.fc(x))\n",
    "         return x"
   ]
  },
  {
   "cell_type": "code",
   "execution_count": null,
   "metadata": {},
   "outputs": [],
   "source": [
    "## Debugging base encoder\n",
    "encoder = DEBaseEncoder().cuda()\n",
    "eeg_batch, _ = next(iter(train_loader))\n",
    "eeg_batch = eeg_batch.cuda()\n",
    "\n",
    "print(f\"Input shape to encoder: {eeg_batch.shape}\")\n",
    "encoder_output = encoder(eeg_batch)\n",
    "print(f\"Encoder output shape: {encoder_output.shape}\")"
   ]
  },
  {
   "cell_type": "code",
   "execution_count": 8,
   "metadata": {},
   "outputs": [],
   "source": [
    "class projector (nn.Module):\n",
    "    def __init__(self, input_dim=128, output_dim=64):\n",
    "        super(projector, self).__init__()\n",
    "        self.project = nn.Sequential(\n",
    "            nn.Linear(input_dim,output_dim),\n",
    "            nn.ReLU(),\n",
    "            nn.Linear(output_dim,output_dim)\n",
    "        )\n",
    "    def forward(self, x):\n",
    "        # print(f\"Input to projector: {x.shape}\")\n",
    "        x = self.project(x)\n",
    "        # print(f\"Output of projector: {x.shape}\")\n",
    "        return x"
   ]
  },
  {
   "cell_type": "code",
   "execution_count": null,
   "metadata": {},
   "outputs": [],
   "source": [
    "## Debugging Projector \n",
    "projector = projector().cuda()\n",
    "encoder_output = encoder(eeg_batch)  # Output from debugged encoder\n",
    "print(f\"Encoder output shape: {encoder_output.shape}\")\n",
    "\n",
    "projector_output = projector(encoder_output)\n",
    "print(f\"Projector output shape: {projector_output.shape}\")  # Expected: [Batch, 64]\n"
   ]
  },
  {
   "cell_type": "code",
   "execution_count": 9,
   "metadata": {},
   "outputs": [],
   "source": [
    "class EmotionClassifier(nn.Module):\n",
    "    def __init__(self, input_dim=128, num_classes=3):\n",
    "        super(EmotionClassifier, self).__init__()\n",
    "        self.classifier = nn.Sequential(\n",
    "            nn.Linear(input_dim, 64),\n",
    "            nn.ReLU(),\n",
    "            nn.Linear(64, num_classes)\n",
    "        )\n",
    "\n",
    "    def forward(self, x):\n",
    "        return self.classifier(x)\n"
   ]
  },
  {
   "cell_type": "code",
   "execution_count": 10,
   "metadata": {},
   "outputs": [],
   "source": [
    "class ContrastiveLoss(nn.Module):\n",
    "    def __init__(self, temperature=0.1):\n",
    "        super(ContrastiveLoss, self).__init__()\n",
    "        self.temperature = temperature\n",
    "\n",
    "    def forward(self, z_i, z_j):\n",
    "        z_i = nn.functional.normalize(z_i, dim=1)\n",
    "        z_j = nn.functional.normalize(z_j, dim=1)\n",
    "        similarity_matrix = torch.matmul(z_i, z_j.T) / self.temperature\n",
    "        # print(f\"Similarity Matrix: {similarity_matrix.shape}\")\n",
    "        labels = torch.arange(z_i.size(0)).to(z_i.device)\n",
    "        # print(f\"Labels: {labels.shape}\")\n",
    "        loss = nn.CrossEntropyLoss()(similarity_matrix, labels)\n",
    "        # print(f\"Contrastive Loss: {loss}\")\n",
    "        return loss\n"
   ]
  },
  {
   "cell_type": "code",
   "execution_count": null,
   "metadata": {},
   "outputs": [],
   "source": [
    "## debugging contrastiveLoss\n",
    "contrastive_loss = ContrastiveLoss().cuda()\n",
    "z_i = projector(encoder(eeg_batch))  # Representation 1\n",
    "z_j = projector(encoder(eeg_batch))  # Representation 2 (positive pair in this case)\n",
    "\n",
    "# Print shapes\n",
    "print(f\"z_i shape: {z_i.shape}, z_j shape: {z_j.shape}\")  # Both should be [Batch, 64]\n",
    "\n",
    "# Compute similarity and loss\n",
    "loss = contrastive_loss(z_i, z_j)\n",
    "print(f\"Contrastive loss: {loss.item()}\")\n"
   ]
  },
  {
   "cell_type": "code",
   "execution_count": null,
   "metadata": {},
   "outputs": [],
   "source": [
    "import torch\n",
    "torch.cuda.empty_cache()"
   ]
  },
  {
   "cell_type": "code",
   "execution_count": null,
   "metadata": {},
   "outputs": [],
   "source": [
    "from torch.utils.tensorboard import SummaryWriter\n",
    "import torch\n",
    "\n",
    "device = torch.device('cuda' if torch.cuda.is_available() else 'cpu')\n",
    "print(device)\n",
    "encoder = DEBaseEncoder().to(device)\n",
    "projector = projector().to(device)\n",
    "contrastive_loss = ContrastiveLoss().to(device)\n",
    "print(next(encoder.parameters()).device)\n",
    "print(next(projector.parameters()).device)\n",
    "optimizer = torch.optim.Adam(list(encoder.parameters()) + list(projector.parameters()), lr=0.001)\n",
    "\n",
    "writer = SummaryWriter(log_dir=\"E:/FYP/Egg-Based Emotion Recognition/EEg-based-Emotion-Recognition/runs/contrastive_training\")\n",
    "\n",
    "for epoch in range(5):\n",
    "    encoder.train()\n",
    "    projector.train()\n",
    "    total_loss = 0\n",
    "\n",
    "    for batch_idx, (eeg, _) in enumerate(train_loader):\n",
    "        eeg = eeg.float().to(device)\n",
    "        print(f\"Batch {batch_idx + 1}: EEG Device - {eeg.device}\")\n",
    "\n",
    "        # Positive pair (augmentations or duplicates in preprocessed dataset)\n",
    "        z_i = projector(encoder(eeg))\n",
    "        print(f\"z_i Device: {z_i.device}\")\n",
    "        z_j = projector(encoder(eeg))\n",
    "        print(f\"Loss Device: {z_j.device}\")\n",
    "\n",
    "        # Compute contrastive loss\n",
    "        loss = contrastive_loss(z_i, z_j)\n",
    "        print(f\"Loss Device: {loss.device}\")\n",
    "        total_loss += loss.item()\n",
    "\n",
    "        # Backpropagation\n",
    "        optimizer.zero_grad()\n",
    "        loss.backward()\n",
    "        \n",
    "        for name, param in encoder.named_parameters():\n",
    "            if param.grad is not None:\n",
    "                writer.add_scalar(f\"Gradients/{name}\", param.grad.norm(), epoch * len(train_loader) + batch_idx)\n",
    "       \n",
    "        optimizer.step()\n",
    "        print(f\"Epoch {epoch + 1}, Batch {batch_idx + 1}/{len(train_loader)}, Loss: {loss.item():.4f}\")\n",
    "\n",
    "        # Log loss to TensorBoard\n",
    "        writer.add_scalar(\"Pretraining Loss\", loss.item(), epoch * len(train_loader) + batch_idx)\n",
    "\n",
    "    print(f\"Epoch {epoch + 1}, Loss: {total_loss / len(train_loader):.4f}\")\n",
    "    \n",
    "writer.close()\n"
   ]
  },
  {
   "cell_type": "code",
   "execution_count": 11,
   "metadata": {},
   "outputs": [
    {
     "name": "stderr",
     "output_type": "stream",
     "text": [
      "C:\\Users\\hamza\\AppData\\Local\\Temp\\ipykernel_16592\\2396463206.py:3: FutureWarning: You are using `torch.load` with `weights_only=False` (the current default value), which uses the default pickle module implicitly. It is possible to construct malicious pickle data which will execute arbitrary code during unpickling (See https://github.com/pytorch/pytorch/blob/main/SECURITY.md#untrusted-models for more details). In a future release, the default value for `weights_only` will be flipped to `True`. This limits the functions that could be executed during unpickling. Arbitrary objects will no longer be allowed to be loaded via this mode unless they are explicitly allowlisted by the user via `torch.serialization.add_safe_globals`. We recommend you start setting `weights_only=True` for any use case where you don't have full control of the loaded file. Please open an issue on GitHub for any issues related to this experimental feature.\n",
      "  checkpoint = torch.load(\"pretraining_checkpoint.pth\")\n"
     ]
    },
    {
     "name": "stdout",
     "output_type": "stream",
     "text": [
      "Checkpoint loaded. Resuming from epoch 5 with loss 0.0129.\n"
     ]
    }
   ],
   "source": [
    "import torch\n",
    "# Load the checkpoint\n",
    "checkpoint = torch.load(\"pretraining_checkpoint.pth\")\n",
    "encoder = DEBaseEncoder().cuda()\n",
    "projector = projector().cuda()\n",
    "optimizer = torch.optim.Adam(list(encoder.parameters()) + list(projector.parameters()), lr=0.001)\n",
    "\n",
    "\n",
    "# Restore states\n",
    "encoder.load_state_dict(checkpoint[\"encoder_state_dict\"])\n",
    "projector.load_state_dict(checkpoint[\"projector_state_dict\"])\n",
    "optimizer.load_state_dict(checkpoint[\"optimizer_state_dict\"])\n",
    "start_epoch = checkpoint[\"epoch\"]\n",
    "loss = checkpoint[\"loss\"]\n",
    "\n",
    "print(f\"Checkpoint loaded. Resuming from epoch {start_epoch} with loss {loss:.4f}.\")\n"
   ]
  },
  {
   "cell_type": "code",
   "execution_count": 12,
   "metadata": {},
   "outputs": [
    {
     "name": "stderr",
     "output_type": "stream",
     "text": [
      "C:\\Users\\hamza\\AppData\\Local\\Temp\\ipykernel_16592\\1540518134.py:15: FutureWarning: You are using `torch.load` with `weights_only=False` (the current default value), which uses the default pickle module implicitly. It is possible to construct malicious pickle data which will execute arbitrary code during unpickling (See https://github.com/pytorch/pytorch/blob/main/SECURITY.md#untrusted-models for more details). In a future release, the default value for `weights_only` will be flipped to `True`. This limits the functions that could be executed during unpickling. Arbitrary objects will no longer be allowed to be loaded via this mode unless they are explicitly allowlisted by the user via `torch.serialization.add_safe_globals`. We recommend you start setting `weights_only=True` for any use case where you don't have full control of the loaded file. Please open an issue on GitHub for any issues related to this experimental feature.\n",
      "  sample = torch.load(file_path, map_location='cpu')  # Load on CPU first\n"
     ]
    },
    {
     "name": "stdout",
     "output_type": "stream",
     "text": [
      "Epoch 1, Loss: 0.7513, Accuracy: 63.50%\n",
      "Epoch 2, Loss: 0.5989, Accuracy: 73.08%\n",
      "Epoch 3, Loss: 0.5237, Accuracy: 77.28%\n",
      "Epoch 4, Loss: 0.4699, Accuracy: 79.98%\n",
      "Epoch 5, Loss: 0.4338, Accuracy: 81.86%\n",
      "Epoch 6, Loss: 0.4058, Accuracy: 83.16%\n",
      "Epoch 7, Loss: 0.3809, Accuracy: 84.42%\n",
      "Epoch 8, Loss: 0.3640, Accuracy: 85.24%\n",
      "Epoch 9, Loss: 0.3464, Accuracy: 85.97%\n",
      "Epoch 10, Loss: 0.3320, Accuracy: 86.60%\n"
     ]
    }
   ],
   "source": [
    "from torch.utils.tensorboard import SummaryWriter\n",
    "writer = SummaryWriter(log_dir=\"./runs/contrastive_training\")\n",
    "classifier = EmotionClassifier().cuda()\n",
    "optimizer = torch.optim.Adam(list(encoder.parameters()) + list(classifier.parameters()), lr=0.001)\n",
    "criterion = nn.CrossEntropyLoss()\n",
    "\n",
    "writer = SummaryWriter(log_dir=\"./runs/fine_tuning\")\n",
    "\n",
    "for epoch in range(10):\n",
    "    encoder.train()\n",
    "    classifier.train()\n",
    "    total_loss = 0\n",
    "    correct = 0\n",
    "    total = 0\n",
    "\n",
    "    for batch_idx, (eeg, label) in enumerate(train_loader):\n",
    "        eeg, label = eeg.cuda(), label.cuda()\n",
    "\n",
    "        # Forward pass\n",
    "        features = encoder(eeg)\n",
    "        outputs = classifier(features)\n",
    "        loss = criterion(outputs, label)\n",
    "\n",
    "        # Backpropagation\n",
    "        optimizer.zero_grad()\n",
    "        loss.backward()\n",
    "        optimizer.step()\n",
    "\n",
    "        total_loss += loss.item()\n",
    "        _, predicted = torch.max(outputs, 1)\n",
    "        total += label.size(0)\n",
    "        correct += (predicted == label).sum().item()\n",
    "\n",
    "        # Log loss and accuracy to TensorBoard\n",
    "        writer.add_scalar(\"Training Loss\", loss.item(), epoch * len(train_loader) + batch_idx)\n",
    "        writer.add_scalar(\"Training Accuracy\", 100 * correct / total, epoch * len(train_loader) + batch_idx)\n",
    "\n",
    "    print(f\"Epoch {epoch + 1}, Loss: {total_loss / len(train_loader):.4f}, Accuracy: {correct / total * 100:.2f}%\")\n"
   ]
  },
  {
   "cell_type": "code",
   "execution_count": 13,
   "metadata": {},
   "outputs": [
    {
     "name": "stderr",
     "output_type": "stream",
     "text": [
      "C:\\Users\\hamza\\AppData\\Local\\Temp\\ipykernel_16592\\1540518134.py:15: FutureWarning: You are using `torch.load` with `weights_only=False` (the current default value), which uses the default pickle module implicitly. It is possible to construct malicious pickle data which will execute arbitrary code during unpickling (See https://github.com/pytorch/pytorch/blob/main/SECURITY.md#untrusted-models for more details). In a future release, the default value for `weights_only` will be flipped to `True`. This limits the functions that could be executed during unpickling. Arbitrary objects will no longer be allowed to be loaded via this mode unless they are explicitly allowlisted by the user via `torch.serialization.add_safe_globals`. We recommend you start setting `weights_only=True` for any use case where you don't have full control of the loaded file. Please open an issue on GitHub for any issues related to this experimental feature.\n",
      "  sample = torch.load(file_path, map_location='cpu')  # Load on CPU first\n"
     ]
    },
    {
     "name": "stdout",
     "output_type": "stream",
     "text": [
      "              precision    recall  f1-score   support\n",
      "\n",
      "           0       0.86      0.79      0.82      5052\n",
      "           1       0.80      0.87      0.83      5000\n",
      "           2       0.91      0.90      0.91      5221\n",
      "\n",
      "    accuracy                           0.85     15273\n",
      "   macro avg       0.85      0.85      0.85     15273\n",
      "weighted avg       0.86      0.85      0.85     15273\n",
      "\n"
     ]
    },
    {
     "data": {
      "image/png": "[encoded data removed]",
      "text/plain": [
       "<Figure size 640x480 with 2 Axes>"
      ]
     },
     "metadata": {},
     "output_type": "display_data"
    }
   ],
   "source": [
    "encoder.eval()\n",
    "classifier.eval()\n",
    "all_preds = []\n",
    "all_labels = []\n",
    "\n",
    "with torch.no_grad():\n",
    "    for eeg, label in test_loader:\n",
    "        eeg, label = eeg.cuda(), label.cuda()\n",
    "        features = encoder(eeg)\n",
    "        outputs = classifier(features)\n",
    "        _, preds = torch.max(outputs, 1)\n",
    "        all_preds.extend(preds.cpu().numpy())\n",
    "        all_labels.extend(label.cpu().numpy())\n",
    "\n",
    "from sklearn.metrics import classification_report, confusion_matrix\n",
    "import seaborn as sns\n",
    "import matplotlib.pyplot as plt\n",
    "\n",
    "# Generate metrics\n",
    "print(classification_report(all_labels, all_preds))\n",
    "\n",
    "# Confusion matrix\n",
    "conf_matrix = confusion_matrix(all_labels, all_preds)\n",
    "sns.heatmap(conf_matrix, annot=True, fmt='d', cmap='Blues')\n",
    "plt.xlabel('Predicted')\n",
    "plt.ylabel('Actual')\n",
    "plt.title('Confusion Matrix')\n",
    "plt.show()\n"
   ]
  },
  {
   "cell_type": "code",
   "execution_count": null,
   "metadata": {},
   "outputs": [],
   "source": []
  }
 ],
 "metadata": {
  "kernelspec": {
   "display_name": ".venv",
   "language": "python",
   "name": "python3"
  },
  "language_info": {
   "codemirror_mode": {
    "name": "ipython",
    "version": 3
   },
   "file_extension": ".py",
   "mimetype": "text/x-python",
   "name": "python",
   "nbconvert_exporter": "python",
   "pygments_lexer": "ipython3",
   "version": "3.12.4"
  }
 },
 "nbformat": 4,
 "nbformat_minor": 2
}
